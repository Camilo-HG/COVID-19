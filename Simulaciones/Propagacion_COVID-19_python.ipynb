{
 "cells": [
  {
   "cell_type": "markdown",
   "metadata": {
    "colab_type": "text",
    "id": "JuOukcShGRMz"
   },
   "source": [
    "## Modelo dinámico para la propagación del virus COVID-19 en Colombia\n",
    "\n",
    "A continuación se presenta el desarrollo de un modelo dinámico basado en el modelo epidemiológico SEIRV [en Wuhan, China](http://www.aimspress.com/article/10.3934/mbe.2020148) y, adaptado a la población colombiana (50 millones de habitantes aproxiadamente). \n",
    "\n",
    "El sistema sigue las siguientes ecuaciones diferenciales:\n",
    "\n",
    "---\n",
    "\n",
    "$$ \\frac{dS}{dt} = \\Lambda - \\beta_1(E) E S - \\beta_2(I) S I - \\beta_3(V) S V - \\mu S $$\n",
    "\n",
    "---\n",
    "\n",
    "$$ \\frac{dE}{dt} =  \\beta_1(E) E S + \\beta_2(I) S I + \\beta_3(V) S V - (\\alpha + \\mu) E $$\n",
    "\n",
    "---\n",
    "\n",
    "$$ \\frac{dI}{dt} = \\alpha E - (\\omega + \\gamma + \\mu) I $$\n",
    "\n",
    "---\n",
    "\n",
    "$$ \\frac{dR}{dt} = \\gamma I - \\mu R $$\n",
    "\n",
    "---\n",
    "\n",
    "$$ \\frac{dV}{dt} = \\xi_1 E + \\xi_2 I - \\sigma V $$\n",
    "\n",
    "---\n",
    "\n",
    "donde S es el número de personas sanas no infectadas, E el número de personas expuestas (portadores asintomaticos o sanos que propagan el virus), I las peronas enfermas, R las personas sanas que se recuperaron del virus y V es la concentración de virus en el ambiente\n",
    "\n",
    "Las __Funciones de Contacto Directo__ (tasas $\\beta$) toman la forma $$ \\beta_i(x) = \\frac{\\beta_0(i)}{1 + c(i)x}  $$ siendo $\\beta_1$ para el contacto E-S (transmisión directa expuestos-sanos), $\\beta_2$ para el contacto (transmisión directa infectados-sanos) I-S y  $\\beta_3$ para el contacto S-V (transmisión indirecta sanos-ambiente). Ademas, se tienen los siguientes valores para la constante de transmisión $\\beta_0$ ($\\frac{1}{persona \\ dia}$) y  el coeficiente de ajuste para la transmisión $c$ ($\\frac{1}{persona}$).\n",
    "\n",
    "$$ \\beta_0 = [1.5 \\times 3.11 \\times 10^{-9}, \\ 1.5 \\times 0.62 \\times 10^{-9}, \\ 1.5 \\times 1.03 \\times 10^{-9} ] $$\n",
    "\n",
    "$$ c = [1.01 \\times 10^{-4}, \\ 1.01 \\times 10^{-4}, \\ 1.01 \\times 10^{-4}  ] $$\n",
    "\n",
    "cabe notar que los anteriores valores han sido adaptados a partir de los datos disponibles para Colombia. \n",
    "\n",
    "Por último, todos los __parámetros del modelo__ se describen a continuación:\n",
    "\n",
    "$\\Lambda \\ (\\frac{personas}{dia}) = 15.098 \\times 5 \\times 10^4 \\times \\frac{1}{365} $: Tasa de natalidad. se usa dato reportado por el banco mundial en el 2017. \n",
    "\n",
    "$\\mu \\ (\\frac{persona}{dia}) = \\frac{5.503 \\times 5 \\times 10^4}{5 \\times 10^6 \\times 365} $: Tasa de muertes naturales. Se usa dato reportado por el BM de 5.503 por mil habitantes.\n",
    "\n",
    "$\\alpha \\ (\\frac{1}{dia})=\\frac{1}{7}$: Frecuencia de incubación.\n",
    "\n",
    "$\\omega \\ (\\frac{1}{dia})= 10^{-2} $: Tasa de muerte inducida por el virus.\n",
    "\n",
    "$\\gamma \\ (\\frac{1}{dia})= \\frac{1}{15} $: Tasa de recuperación. \n",
    "\n",
    "$\\xi_1 \\ (\\frac{1}{dia}) = 2.30$: Tasa de dispersión del virus al ambiente por los individuos sanos portadores.\n",
    "\n",
    "$\\xi_2 \\ (\\frac{1}{dia}) = 0$: Tasa de dispersión del virus al ambiente por los individuos enfermos.\n",
    "\n",
    "$\\sigma \\ (\\frac{1}{dia}) = 1$: Tasa de remoción del virus en el ambiente."
   ]
  },
  {
   "cell_type": "code",
   "execution_count": 1,
   "metadata": {
    "colab": {
     "base_uri": "https://localhost:8080/",
     "height": 34
    },
    "colab_type": "code",
    "id": "TrMVeC74GRM1",
    "outputId": "998c8249-8249-4b45-8055-bb95404cf494"
   },
   "outputs": [
    {
     "name": "stdout",
     "output_type": "stream",
     "text": [
      "Populating the interactive namespace from numpy and matplotlib\n"
     ]
    }
   ],
   "source": [
    "##=== Importando librerías ===##\n",
    "import numpy as np\n",
    "import matplotlib.pyplot as plt\n",
    "from scipy import integrate\n",
    "%pylab inline"
   ]
  },
  {
   "cell_type": "code",
   "execution_count": 0,
   "metadata": {
    "colab": {},
    "colab_type": "code",
    "id": "jVtBk2GCGRM6"
   },
   "outputs": [],
   "source": [
    "##=== Definiendo valores de parametros==##\n",
    "\n",
    "lbd = (15.098*5* 10**4) / 365 \n",
    "mu = (5.503*5* 10**4) / (5* pow(10, 6) *365) \n",
    "alpha = 1/7\n",
    "omega = pow(10,-2)\n",
    "gamma = 1/15\n",
    "xi_1 = 2.30\n",
    "xi_2 = 0\n",
    "sigma = 1\n",
    "\n",
    "def betaf(i, x):\n",
    "    b0 = [1.5*3.11*pow(10, -9), 1.5*0.62*pow(10, -9), 1.5*1.03*pow(10, -9)]\n",
    "    c = [1.01*pow(10, -4), 1.01*pow(10, -4), 1.01*pow(10, -4)]\n",
    "    \n",
    "    b = b0[i-1] / (1 + c[i-1]*x)\n",
    "    \n",
    "    return b\n",
    "\n",
    "##=== Definiendo sistema de ecuaciones ===##\n",
    "\n",
    "def syst(y, t, beta, xi_2):\n",
    "    S, E, I, R, V = y\n",
    "    \n",
    "    dS = lbd - beta(1, E)*E*S - beta(2, I)*S*I - beta(3,V)*S*V - mu*S\n",
    "    dE = beta(1,E)*E*S + beta(2,I)*S*I + beta(3,V)*S*V - (alpha + mu)*E\n",
    "    dI = alpha*E - (omega + gamma + mu)*I\n",
    "    dR = gamma*I - mu*R \n",
    "    dV = xi_1*E + xi_2*I - sigma*V\n",
    "    \n",
    "    return [dS, dE, dI, dR, dV]\n",
    "\n",
    "##=== Carga de datos en tiempo real ===##\n",
    "def date_range(date_start='2/23/20',date_end='3/03/20',date_step=1):\n",
    "    import datetime\n",
    "    dr=[]\n",
    "    start = datetime.datetime.strptime(date_start, \"%m/%d/%y\")\n",
    "    end = datetime.datetime.strptime(date_end, \"%m/%d/%y\")\n",
    "    step = datetime.timedelta(days=date_step)\n",
    "    while start <= end:\n",
    "        #avoid leading zeroes: https://stackoverflow.com/a/2073189/2268280\n",
    "        dr.append(start.strftime(\"%-m/%-d/%y\"))\n",
    "        start += step\n",
    "    return dr\n",
    "def get_infected(country,date_start=None,date_end=None,\n",
    "      data_source='https://raw.githubusercontent.com/CSSEGISandData/COVID-19/',\n",
    "      data_file='master/csse_covid_19_data/csse_covid_19_time_series/time_series_19-covid-Confirmed.csv'\n",
    "      ):\n",
    "    '''\n",
    "    Obtenga la lista de infectados de un país\n",
    "     country: País\n",
    "     date_start: Fecha inicial en el formato MM/DD/YY, e.g. '3/10/20' o None\n",
    "     date_end  : Fecha final en el formato MM/DD/YY, e.g. '3/10/20' o None\n",
    "     si alguna de las fechas esta en None se toma de los extremos del rango\n",
    "     de fechas disponible\n",
    "    '''\n",
    "    import datetime\n",
    "    import pandas as pd\n",
    "    import re\n",
    "\n",
    "    cva=pd.read_csv('{}{}'.format(data_source,data_file))\n",
    "    cva=cva.reset_index(drop=True)\n",
    "    d=[ c for c in cva.columns if re.search(r'^[0-9]{1,2}\\/[0-9]{1,2}\\/[1920]{2}',c)]\n",
    "    if not date_start:\n",
    "        date_start=d[0]\n",
    "    if not date_end:\n",
    "        date_end=d[-1]\n",
    "    dr=date_range(date_start=date_start,date_end=date_end)\n",
    "    cvrg=cva[cva['Country/Region']==country].reset_index(drop=True)\n",
    "    y=cvrg[dr].values.tolist()[0]\n",
    "    return y       "
   ]
  },
  {
   "cell_type": "markdown",
   "metadata": {
    "colab_type": "text",
    "id": "cfhCzZfGGRM9"
   },
   "source": [
    "para las __condiciones iniciales__ en la integración se tienen dos posibilidades, las dadas en el artículo para la epidemia de Wuhan después de la cuarentena ($sys0_w$) o, las condiciones iniciales para el inicio de la epidemia en una población de tamaño n ($sys0_n$)\n",
    "\n",
    "$$ sys0_w = [8998505, 1000, 475, 10, 10000] $$\n",
    "$$ sys0_n = [n, 0, 0, 0, 100] $$"
   ]
  },
  {
   "cell_type": "code",
   "execution_count": 0,
   "metadata": {
    "colab": {},
    "colab_type": "code",
    "id": "cQJRCCoRGRM-"
   },
   "outputs": [],
   "source": [
    "##=== Definiendo condiciones iniciales ===##\n",
    "sys0_w = [8998505, 1000, 475, 10, 10000]\n",
    "\n",
    "def sys0_n(n): return [n, 0, 0, 0, 100]\n",
    "\n",
    "##=== Definiendo tiempo de integración ===##\n",
    "t = np.arange(0, 300)"
   ]
  },
  {
   "cell_type": "code",
   "execution_count": 0,
   "metadata": {
    "colab": {},
    "colab_type": "code",
    "id": "5RFMF4LQGRNB"
   },
   "outputs": [],
   "source": [
    "##=== Integrando sistema de ecuaciones para colombia ===###\n",
    "Col_sol = integrate.odeint(syst, sys0_n(5*10**7), t, args=(betaf, xi_2) )"
   ]
  },
  {
   "cell_type": "code",
   "execution_count": 5,
   "metadata": {
    "colab": {
     "base_uri": "https://localhost:8080/",
     "height": 279
    },
    "colab_type": "code",
    "id": "Zt4m_O-uGRND",
    "outputId": "f4bf1d54-0d48-411f-a990-8d690f063073"
   },
   "outputs": [
    {
     "data": {
      "image/png": "[encoded data removed]",
      "text/plain": [
       "<Figure size 432x288 with 1 Axes>"
      ]
     },
     "metadata": {
      "tags": []
     },
     "output_type": "display_data"
    }
   ],
   "source": [
    "##=== Graficando primeros resultados ===###\n",
    "plt.plot(t, Col_sol[:, 1], label=\"No documentados\")\n",
    "plt.plot(t, Col_sol[:, 2], label=\"Diagnosticados\")\n",
    "plt.xlabel(\"Días\")\n",
    "plt.ylabel(\"Personas\")\n",
    "plt.xlim(0, 200)\n",
    "plt.legend()\n",
    "plt.show()"
   ]
  },
  {
   "cell_type": "markdown",
   "metadata": {
    "colab_type": "text",
    "id": "0IiUMAVmGRNG"
   },
   "source": [
    "Tomamos el número de casos reportados para __Colombia__ en los primeros 10 días después del primer paciente positivo para COVID-19 en el territorio y lo ajustamos a nuestro modelo"
   ]
  },
  {
   "cell_type": "code",
   "execution_count": 6,
   "metadata": {
    "colab": {
     "base_uri": "https://localhost:8080/",
     "height": 296
    },
    "colab_type": "code",
    "id": "cSPR5PzyGRNI",
    "outputId": "117076f7-9219-43a5-e9c4-06c37bb491a8"
   },
   "outputs": [
    {
     "data": {
      "image/png": "[encoded data removed]",
      "text/plain": [
       "<Figure size 432x288 with 1 Axes>"
      ]
     },
     "metadata": {
      "tags": []
     },
     "output_type": "display_data"
    },
    {
     "name": "stdout",
     "output_type": "stream",
     "text": [
      "[1, 1, 1, 3, 9, 9, 13, 22, 34, 54, 65]\n"
     ]
    }
   ],
   "source": [
    "##=== Datos para Colombia ===##\n",
    "ONLINE=True\n",
    "if ONLINE:\n",
    "    #NOTA: date_end=None toma la última actualización\n",
    "    Col10=get_infected('Colombia',date_start='3/7/20',date_end='3/17/20')\n",
    "else:\n",
    "    Col10 = [1, 1, 1, 3, 3, 9, 9, 16, 24, 24, 45]\n",
    "\n",
    "plt.plot(t[1:12], Col10, 'ko', label=\"Datos\")\n",
    "plt.xlabel(\"Días\")\n",
    "plt.ylabel(\"Personas\")\n",
    "plt.legend()\n",
    "plt.show()\n",
    "print(Col10)"
   ]
  },
  {
   "cell_type": "code",
   "execution_count": 7,
   "metadata": {
    "colab": {
     "base_uri": "https://localhost:8080/",
     "height": 279
    },
    "colab_type": "code",
    "id": "xfWb1DiWGRNN",
    "outputId": "5df1af8e-a0b1-443d-e58d-18af3ef9f4cf"
   },
   "outputs": [
    {
     "data": {
      "image/png": "[encoded data removed]",
      "text/plain": [
       "<Figure size 432x288 with 1 Axes>"
      ]
     },
     "metadata": {
      "tags": []
     },
     "output_type": "display_data"
    }
   ],
   "source": [
    "##=== Graficando primeros resultados y datos reportados ===###\n",
    "plt.plot(t[0:11], Col_sol[0:11, 1], label=\"No documentados\")\n",
    "plt.plot(t[0:11], Col_sol[0:11, 2], label=\"Diagnosticados\")\n",
    "plt.plot(t[1:12], Col10, 'k.', label=\"Datos\")\n",
    "plt.xlabel(\"Días\")\n",
    "plt.ylabel(\"Personas\")\n",
    "plt.xlim(0, 10)\n",
    "plt.legend()\n",
    "plt.show()"
   ]
  },
  {
   "cell_type": "markdown",
   "metadata": {
    "colab_type": "text",
    "id": "MW585t9XGRNT"
   },
   "source": [
    "A partir del modelo mostrado, se propone visualizar __como sería la propagación si no hay intervención__ al modificar las tasas de contacto $\\beta_i$"
   ]
  },
  {
   "cell_type": "code",
   "execution_count": 0,
   "metadata": {
    "colab": {},
    "colab_type": "code",
    "id": "BOU_XpfaGRNU"
   },
   "outputs": [],
   "source": [
    "##=== Definiendo función de contacto directo modificada ===##\n",
    "def betaf_mod(i, xc, x):\n",
    "    b0 = [1.5*3.11*pow(10, -9), 1.5*0.62*pow(10, -9), 1.5*1.03*pow(10, -9)]\n",
    "    c = [0, 0, 0] \n",
    "    #c = [1.01*pow(10, -4), 1.01*pow(10, -4), 1.01*pow(10, -4)]\n",
    "    \n",
    "    if x<xc:\n",
    "        b = b0[i-1]\n",
    "    else: \n",
    "        b = b0[i-1]*(1+c[i-1]*xc) / (1+c[i-1]*x)\n",
    "    \n",
    "    return b\n",
    "\n",
    "def beta_mod(i, x): # forma reducida para c=[0,0,0]\n",
    "    b0 = [1.5*3.11*pow(10, -9), 1.5*0.62*pow(10, -9), 1.5*1.03*pow(10, -9)]\n",
    "    b = b0[i-1]\n",
    "    return b"
   ]
  },
  {
   "cell_type": "code",
   "execution_count": 0,
   "metadata": {
    "colab": {},
    "colab_type": "code",
    "id": "anBP5IjUGRNW"
   },
   "outputs": [],
   "source": [
    "##=== solucionando ecuaciones para tasas modificadas ===##\n",
    "Col_sol_mod = integrate.odeint(syst, sys0_n(5*10**7), t, args=(beta_mod, xi_2) )"
   ]
  },
  {
   "cell_type": "code",
   "execution_count": 10,
   "metadata": {
    "colab": {
     "base_uri": "https://localhost:8080/",
     "height": 290
    },
    "colab_type": "code",
    "id": "CkoE8WQyGRNZ",
    "outputId": "a5b94524-c256-407f-a4aa-00a082c5785e"
   },
   "outputs": [
    {
     "data": {
      "image/png": "[encoded data removed]",
      "text/plain": [
       "<Figure size 432x288 with 1 Axes>"
      ]
     },
     "metadata": {
      "tags": []
     },
     "output_type": "display_data"
    }
   ],
   "source": [
    "##=== Graficando nuevos resultados ===###\n",
    "plt.plot(t, Col_sol_mod[:, 1], label=\"No documentados\")\n",
    "plt.plot(t, Col_sol_mod[:, 2], label=\"Diagnosticados\")\n",
    "plt.xlabel(\"Días\")\n",
    "plt.ylabel(\"Personas\")\n",
    "plt.xlim(0, 200)\n",
    "plt.legend()\n",
    "plt.show()"
   ]
  },
  {
   "cell_type": "code",
   "execution_count": 0,
   "metadata": {
    "colab": {},
    "colab_type": "code",
    "id": "1wkzvWWVGRNc"
   },
   "outputs": [],
   "source": []
  }
 ],
 "metadata": {
  "colab": {
   "name": "Propagación_COVID-19_python.ipynb",
   "provenance": []
  },
  "kernelspec": {
   "display_name": "Python 3",
   "language": "python",
   "name": "python3"
  },
  "language_info": {
   "codemirror_mode": {
    "name": "ipython",
    "version": 3
   },
   "file_extension": ".py",
   "mimetype": "text/x-python",
   "name": "python",
   "nbconvert_exporter": "python",
   "pygments_lexer": "ipython3",
   "version": "3.7.4"
  }
 },
 "nbformat": 4,
 "nbformat_minor": 1
}
